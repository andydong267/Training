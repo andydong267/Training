{
 "cells": [
  {
   "cell_type": "code",
   "execution_count": 1,
   "metadata": {},
   "outputs": [],
   "source": [
    "import pandas as pd\n",
    "\n",
    "df = pd.read_csv('combined_cycle_power_plant (1).csv')"
   ]
  },
  {
   "cell_type": "markdown",
   "metadata": {},
   "source": [
    "### Data Cleaning"
   ]
  },
  {
   "cell_type": "code",
   "execution_count": 2,
   "metadata": {},
   "outputs": [],
   "source": [
    "df[['Temperature','Exhaust Vacuum','Ambient Pressure','Relative Humidity','Energy Output']] = df['temperature;exhaust_vacuum;ambient_pressure;relative_humidity;energy_output'].str.split(';',5,expand=True)"
   ]
  },
  {
   "cell_type": "code",
   "execution_count": 3,
   "metadata": {},
   "outputs": [],
   "source": [
    "df = df.drop(columns ='temperature;exhaust_vacuum;ambient_pressure;relative_humidity;energy_output')"
   ]
  },
  {
   "cell_type": "code",
   "execution_count": 4,
   "metadata": {},
   "outputs": [],
   "source": [
    "df = df.astype(float)"
   ]
  },
  {
   "cell_type": "code",
   "execution_count": 5,
   "metadata": {},
   "outputs": [
    {
     "data": {
      "text/plain": [
       "Temperature          0\n",
       "Exhaust Vacuum       0\n",
       "Ambient Pressure     0\n",
       "Relative Humidity    0\n",
       "Energy Output        0\n",
       "dtype: int64"
      ]
     },
     "execution_count": 5,
     "metadata": {},
     "output_type": "execute_result"
    }
   ],
   "source": [
    "df.isnull().sum()"
   ]
  },
  {
   "cell_type": "markdown",
   "metadata": {},
   "source": [
    "### Data Analysis"
   ]
  },
  {
   "cell_type": "code",
   "execution_count": 6,
   "metadata": {},
   "outputs": [
    {
     "data": {
      "text/html": [
       "<div>\n",
       "<style scoped>\n",
       "    .dataframe tbody tr th:only-of-type {\n",
       "        vertical-align: middle;\n",
       "    }\n",
       "\n",
       "    .dataframe tbody tr th {\n",
       "        vertical-align: top;\n",
       "    }\n",
       "\n",
       "    .dataframe thead th {\n",
       "        text-align: right;\n",
       "    }\n",
       "</style>\n",
       "<table border=\"1\" class=\"dataframe\">\n",
       "  <thead>\n",
       "    <tr style=\"text-align: right;\">\n",
       "      <th></th>\n",
       "      <th>Temperature</th>\n",
       "      <th>Exhaust Vacuum</th>\n",
       "      <th>Ambient Pressure</th>\n",
       "      <th>Relative Humidity</th>\n",
       "      <th>Energy Output</th>\n",
       "    </tr>\n",
       "  </thead>\n",
       "  <tbody>\n",
       "    <tr>\n",
       "      <th>count</th>\n",
       "      <td>9568.000000</td>\n",
       "      <td>9568.000000</td>\n",
       "      <td>9568.000000</td>\n",
       "      <td>9568.000000</td>\n",
       "      <td>9568.000000</td>\n",
       "    </tr>\n",
       "    <tr>\n",
       "      <th>mean</th>\n",
       "      <td>19.651231</td>\n",
       "      <td>54.305804</td>\n",
       "      <td>1013.259078</td>\n",
       "      <td>73.308978</td>\n",
       "      <td>454.365009</td>\n",
       "    </tr>\n",
       "    <tr>\n",
       "      <th>std</th>\n",
       "      <td>7.452473</td>\n",
       "      <td>12.707893</td>\n",
       "      <td>5.938784</td>\n",
       "      <td>14.600269</td>\n",
       "      <td>17.066995</td>\n",
       "    </tr>\n",
       "    <tr>\n",
       "      <th>min</th>\n",
       "      <td>1.810000</td>\n",
       "      <td>25.360000</td>\n",
       "      <td>992.890000</td>\n",
       "      <td>25.560000</td>\n",
       "      <td>420.260000</td>\n",
       "    </tr>\n",
       "    <tr>\n",
       "      <th>25%</th>\n",
       "      <td>13.510000</td>\n",
       "      <td>41.740000</td>\n",
       "      <td>1009.100000</td>\n",
       "      <td>63.327500</td>\n",
       "      <td>439.750000</td>\n",
       "    </tr>\n",
       "    <tr>\n",
       "      <th>50%</th>\n",
       "      <td>20.345000</td>\n",
       "      <td>52.080000</td>\n",
       "      <td>1012.940000</td>\n",
       "      <td>74.975000</td>\n",
       "      <td>451.550000</td>\n",
       "    </tr>\n",
       "    <tr>\n",
       "      <th>75%</th>\n",
       "      <td>25.720000</td>\n",
       "      <td>66.540000</td>\n",
       "      <td>1017.260000</td>\n",
       "      <td>84.830000</td>\n",
       "      <td>468.430000</td>\n",
       "    </tr>\n",
       "    <tr>\n",
       "      <th>max</th>\n",
       "      <td>37.110000</td>\n",
       "      <td>81.560000</td>\n",
       "      <td>1033.300000</td>\n",
       "      <td>100.160000</td>\n",
       "      <td>495.760000</td>\n",
       "    </tr>\n",
       "  </tbody>\n",
       "</table>\n",
       "</div>"
      ],
      "text/plain": [
       "       Temperature  Exhaust Vacuum  Ambient Pressure  Relative Humidity  \\\n",
       "count  9568.000000     9568.000000       9568.000000        9568.000000   \n",
       "mean     19.651231       54.305804       1013.259078          73.308978   \n",
       "std       7.452473       12.707893          5.938784          14.600269   \n",
       "min       1.810000       25.360000        992.890000          25.560000   \n",
       "25%      13.510000       41.740000       1009.100000          63.327500   \n",
       "50%      20.345000       52.080000       1012.940000          74.975000   \n",
       "75%      25.720000       66.540000       1017.260000          84.830000   \n",
       "max      37.110000       81.560000       1033.300000         100.160000   \n",
       "\n",
       "       Energy Output  \n",
       "count    9568.000000  \n",
       "mean      454.365009  \n",
       "std        17.066995  \n",
       "min       420.260000  \n",
       "25%       439.750000  \n",
       "50%       451.550000  \n",
       "75%       468.430000  \n",
       "max       495.760000  "
      ]
     },
     "execution_count": 6,
     "metadata": {},
     "output_type": "execute_result"
    }
   ],
   "source": [
    "# Standard statistical methods\n",
    "df.describe()"
   ]
  },
  {
   "cell_type": "code",
   "execution_count": 7,
   "metadata": {},
   "outputs": [
    {
     "data": {
      "text/html": [
       "<div>\n",
       "<style scoped>\n",
       "    .dataframe tbody tr th:only-of-type {\n",
       "        vertical-align: middle;\n",
       "    }\n",
       "\n",
       "    .dataframe tbody tr th {\n",
       "        vertical-align: top;\n",
       "    }\n",
       "\n",
       "    .dataframe thead th {\n",
       "        text-align: right;\n",
       "    }\n",
       "</style>\n",
       "<table border=\"1\" class=\"dataframe\">\n",
       "  <thead>\n",
       "    <tr style=\"text-align: right;\">\n",
       "      <th></th>\n",
       "      <th>Temperature</th>\n",
       "      <th>Exhaust Vacuum</th>\n",
       "      <th>Ambient Pressure</th>\n",
       "      <th>Relative Humidity</th>\n",
       "      <th>Energy Output</th>\n",
       "    </tr>\n",
       "  </thead>\n",
       "  <tbody>\n",
       "    <tr>\n",
       "      <th>Temperature</th>\n",
       "      <td>1.000000</td>\n",
       "      <td>0.844107</td>\n",
       "      <td>-0.507549</td>\n",
       "      <td>-0.542535</td>\n",
       "      <td>-0.948128</td>\n",
       "    </tr>\n",
       "    <tr>\n",
       "      <th>Exhaust Vacuum</th>\n",
       "      <td>0.844107</td>\n",
       "      <td>1.000000</td>\n",
       "      <td>-0.413502</td>\n",
       "      <td>-0.312187</td>\n",
       "      <td>-0.869780</td>\n",
       "    </tr>\n",
       "    <tr>\n",
       "      <th>Ambient Pressure</th>\n",
       "      <td>-0.507549</td>\n",
       "      <td>-0.413502</td>\n",
       "      <td>1.000000</td>\n",
       "      <td>0.099574</td>\n",
       "      <td>0.518429</td>\n",
       "    </tr>\n",
       "    <tr>\n",
       "      <th>Relative Humidity</th>\n",
       "      <td>-0.542535</td>\n",
       "      <td>-0.312187</td>\n",
       "      <td>0.099574</td>\n",
       "      <td>1.000000</td>\n",
       "      <td>0.389794</td>\n",
       "    </tr>\n",
       "    <tr>\n",
       "      <th>Energy Output</th>\n",
       "      <td>-0.948128</td>\n",
       "      <td>-0.869780</td>\n",
       "      <td>0.518429</td>\n",
       "      <td>0.389794</td>\n",
       "      <td>1.000000</td>\n",
       "    </tr>\n",
       "  </tbody>\n",
       "</table>\n",
       "</div>"
      ],
      "text/plain": [
       "                   Temperature  Exhaust Vacuum  Ambient Pressure  \\\n",
       "Temperature           1.000000        0.844107         -0.507549   \n",
       "Exhaust Vacuum        0.844107        1.000000         -0.413502   \n",
       "Ambient Pressure     -0.507549       -0.413502          1.000000   \n",
       "Relative Humidity    -0.542535       -0.312187          0.099574   \n",
       "Energy Output        -0.948128       -0.869780          0.518429   \n",
       "\n",
       "                   Relative Humidity  Energy Output  \n",
       "Temperature                -0.542535      -0.948128  \n",
       "Exhaust Vacuum             -0.312187      -0.869780  \n",
       "Ambient Pressure            0.099574       0.518429  \n",
       "Relative Humidity           1.000000       0.389794  \n",
       "Energy Output               0.389794       1.000000  "
      ]
     },
     "execution_count": 7,
     "metadata": {},
     "output_type": "execute_result"
    }
   ],
   "source": [
    "# Correlations between the columns\n",
    "df.corr()"
   ]
  },
  {
   "cell_type": "code",
   "execution_count": 8,
   "metadata": {},
   "outputs": [],
   "source": [
    "# From the tables above, it looks like temperature is highly positively correlated with exhaust vacuum\n",
    "# and highly negatively correlated with energy output. The high negative correlation between exhaust vacuum \n",
    "# and energy output could be due to the high positive correlation between temperature and exhaust vacuum.\n",
    "\n",
    "# Energy output also has a moderately positive correlation with ambient pressure and relative humidity. "
   ]
  },
  {
   "cell_type": "code",
   "execution_count": 9,
   "metadata": {},
   "outputs": [
    {
     "name": "stdout",
     "output_type": "stream",
     "text": [
      "Max Energy: \n",
      "0.09110514616371779\n",
      "Min Energy: \n",
      "-0.07506081828553324\n",
      "\n",
      "Average Temp: 19.651231187290936\n",
      "0.888431297068053\n",
      "0.9078938117032289\n",
      "\n",
      "Highest Temp: 37.11\n",
      "-0.05527496371071505\n",
      "\n",
      "Lowest Temp: 1.81\n",
      "0.07963859417986896\n",
      "\n"
     ]
    }
   ],
   "source": [
    "print(\"Max Energy: \")\n",
    "print( ( (df['Energy Output'].max() / df['Energy Output'].mean()) - 1 ) )\n",
    "print(\"Min Energy: \")\n",
    "print( ( (df['Energy Output'].min() / df['Energy Output'].mean()) - 1) )\n",
    "print()\n",
    "\n",
    "print(\"Average Temp: \" + str(df['Temperature'].mean()))\n",
    "print ( abs( df['Temperature'].max() / df['Temperature'].mean()  - 1))\n",
    "print ( abs( df['Temperature'].min() / df['Temperature'].mean() - 1))\n",
    "print()\n",
    "\n",
    "print(\"Highest Temp: \" + str( df['Temperature'].max()) )\n",
    "print( ( (df.iloc[df['Temperature'].idxmax()]['Energy Output']) / df['Energy Output'].mean() ) - 1)\n",
    "print()\n",
    "\n",
    "print(\"Lowest Temp: \" + str( df['Temperature'].min()) )\n",
    "print( ( (df.iloc[df['Temperature'].idxmin()]['Energy Output']) / df['Energy Output'].mean() ) - 1)\n",
    "print()"
   ]
  },
  {
   "cell_type": "code",
   "execution_count": 10,
   "metadata": {},
   "outputs": [],
   "source": [
    "# The maximum energy output is 9.1% higher than the average.\n",
    "# The minimum energy output is 7.5% lower than the average.\n",
    "\n",
    "# The energy output from the highest temp is 5.5% lower than average\n",
    "# The energy output from the lowest temp is 7.9% higher than average"
   ]
  },
  {
   "cell_type": "code",
   "execution_count": 11,
   "metadata": {},
   "outputs": [
    {
     "data": {
      "text/html": [
       "<div>\n",
       "<style scoped>\n",
       "    .dataframe tbody tr th:only-of-type {\n",
       "        vertical-align: middle;\n",
       "    }\n",
       "\n",
       "    .dataframe tbody tr th {\n",
       "        vertical-align: top;\n",
       "    }\n",
       "\n",
       "    .dataframe thead th {\n",
       "        text-align: right;\n",
       "    }\n",
       "</style>\n",
       "<table border=\"1\" class=\"dataframe\">\n",
       "  <thead>\n",
       "    <tr style=\"text-align: right;\">\n",
       "      <th></th>\n",
       "      <th>Temperature</th>\n",
       "      <th>Exhaust Vacuum</th>\n",
       "      <th>Ambient Pressure</th>\n",
       "      <th>Relative Humidity</th>\n",
       "      <th>Energy Output</th>\n",
       "    </tr>\n",
       "  </thead>\n",
       "  <tbody>\n",
       "    <tr>\n",
       "      <th>Temperature</th>\n",
       "      <td>1.000000</td>\n",
       "      <td>0.176202</td>\n",
       "      <td>-0.085802</td>\n",
       "      <td>-0.279095</td>\n",
       "      <td>-0.804691</td>\n",
       "    </tr>\n",
       "    <tr>\n",
       "      <th>Exhaust Vacuum</th>\n",
       "      <td>0.176202</td>\n",
       "      <td>1.000000</td>\n",
       "      <td>0.029044</td>\n",
       "      <td>0.064017</td>\n",
       "      <td>-0.182664</td>\n",
       "    </tr>\n",
       "    <tr>\n",
       "      <th>Ambient Pressure</th>\n",
       "      <td>-0.085802</td>\n",
       "      <td>0.029044</td>\n",
       "      <td>1.000000</td>\n",
       "      <td>-0.158405</td>\n",
       "      <td>0.063284</td>\n",
       "    </tr>\n",
       "    <tr>\n",
       "      <th>Relative Humidity</th>\n",
       "      <td>-0.279095</td>\n",
       "      <td>0.064017</td>\n",
       "      <td>-0.158405</td>\n",
       "      <td>1.000000</td>\n",
       "      <td>0.080394</td>\n",
       "    </tr>\n",
       "    <tr>\n",
       "      <th>Energy Output</th>\n",
       "      <td>-0.804691</td>\n",
       "      <td>-0.182664</td>\n",
       "      <td>0.063284</td>\n",
       "      <td>0.080394</td>\n",
       "      <td>1.000000</td>\n",
       "    </tr>\n",
       "  </tbody>\n",
       "</table>\n",
       "</div>"
      ],
      "text/plain": [
       "                   Temperature  Exhaust Vacuum  Ambient Pressure  \\\n",
       "Temperature           1.000000        0.176202         -0.085802   \n",
       "Exhaust Vacuum        0.176202        1.000000          0.029044   \n",
       "Ambient Pressure     -0.085802        0.029044          1.000000   \n",
       "Relative Humidity    -0.279095        0.064017         -0.158405   \n",
       "Energy Output        -0.804691       -0.182664          0.063284   \n",
       "\n",
       "                   Relative Humidity  Energy Output  \n",
       "Temperature                -0.279095      -0.804691  \n",
       "Exhaust Vacuum              0.064017      -0.182664  \n",
       "Ambient Pressure           -0.158405       0.063284  \n",
       "Relative Humidity           1.000000       0.080394  \n",
       "Energy Output               0.080394       1.000000  "
      ]
     },
     "execution_count": 11,
     "metadata": {},
     "output_type": "execute_result"
    }
   ],
   "source": [
    "sorted = df.sort_values(by='Energy Output', ascending=False)\n",
    "top_25 = len(df) * (1/4)\n",
    "mid_50 = len(df) * (1/2)\n",
    "lower_25 = len(df) * (3/4)\n",
    "\n",
    "top = sorted[:int(top_25)]\n",
    "mid = sorted[int(mid_50):int(lower_25)]\n",
    "lower = sorted[int(lower_25):]\n",
    "\n",
    "top.corr()"
   ]
  },
  {
   "cell_type": "code",
   "execution_count": 14,
   "metadata": {},
   "outputs": [
    {
     "data": {
      "text/plain": [
       "Temperature            10.067492\n",
       "Exhaust Vacuum         40.718215\n",
       "Ambient Pressure     1017.100773\n",
       "Relative Humidity      80.958023\n",
       "Energy Output         477.745982\n",
       "dtype: float64"
      ]
     },
     "execution_count": 14,
     "metadata": {},
     "output_type": "execute_result"
    }
   ],
   "source": [
    "top.mean()"
   ]
  },
  {
   "cell_type": "code",
   "execution_count": 17,
   "metadata": {},
   "outputs": [
    {
     "data": {
      "text/html": [
       "<div>\n",
       "<style scoped>\n",
       "    .dataframe tbody tr th:only-of-type {\n",
       "        vertical-align: middle;\n",
       "    }\n",
       "\n",
       "    .dataframe tbody tr th {\n",
       "        vertical-align: top;\n",
       "    }\n",
       "\n",
       "    .dataframe thead th {\n",
       "        text-align: right;\n",
       "    }\n",
       "</style>\n",
       "<table border=\"1\" class=\"dataframe\">\n",
       "  <thead>\n",
       "    <tr style=\"text-align: right;\">\n",
       "      <th></th>\n",
       "      <th>Temperature</th>\n",
       "      <th>Exhaust Vacuum</th>\n",
       "      <th>Ambient Pressure</th>\n",
       "      <th>Relative Humidity</th>\n",
       "      <th>Energy Output</th>\n",
       "    </tr>\n",
       "  </thead>\n",
       "  <tbody>\n",
       "    <tr>\n",
       "      <th>Temperature</th>\n",
       "      <td>1.000000</td>\n",
       "      <td>0.251386</td>\n",
       "      <td>-0.059887</td>\n",
       "      <td>-0.668119</td>\n",
       "      <td>-0.526098</td>\n",
       "    </tr>\n",
       "    <tr>\n",
       "      <th>Exhaust Vacuum</th>\n",
       "      <td>0.251386</td>\n",
       "      <td>1.000000</td>\n",
       "      <td>0.169664</td>\n",
       "      <td>-0.046473</td>\n",
       "      <td>-0.289169</td>\n",
       "    </tr>\n",
       "    <tr>\n",
       "      <th>Ambient Pressure</th>\n",
       "      <td>-0.059887</td>\n",
       "      <td>0.169664</td>\n",
       "      <td>1.000000</td>\n",
       "      <td>-0.165979</td>\n",
       "      <td>0.192873</td>\n",
       "    </tr>\n",
       "    <tr>\n",
       "      <th>Relative Humidity</th>\n",
       "      <td>-0.668119</td>\n",
       "      <td>-0.046473</td>\n",
       "      <td>-0.165979</td>\n",
       "      <td>1.000000</td>\n",
       "      <td>0.168927</td>\n",
       "    </tr>\n",
       "    <tr>\n",
       "      <th>Energy Output</th>\n",
       "      <td>-0.526098</td>\n",
       "      <td>-0.289169</td>\n",
       "      <td>0.192873</td>\n",
       "      <td>0.168927</td>\n",
       "      <td>1.000000</td>\n",
       "    </tr>\n",
       "  </tbody>\n",
       "</table>\n",
       "</div>"
      ],
      "text/plain": [
       "                   Temperature  Exhaust Vacuum  Ambient Pressure  \\\n",
       "Temperature           1.000000        0.251386         -0.059887   \n",
       "Exhaust Vacuum        0.251386        1.000000          0.169664   \n",
       "Ambient Pressure     -0.059887        0.169664          1.000000   \n",
       "Relative Humidity    -0.668119       -0.046473         -0.165979   \n",
       "Energy Output        -0.526098       -0.289169          0.192873   \n",
       "\n",
       "                   Relative Humidity  Energy Output  \n",
       "Temperature                -0.668119      -0.526098  \n",
       "Exhaust Vacuum             -0.046473      -0.289169  \n",
       "Ambient Pressure           -0.165979       0.192873  \n",
       "Relative Humidity           1.000000       0.168927  \n",
       "Energy Output               0.168927       1.000000  "
      ]
     },
     "execution_count": 17,
     "metadata": {},
     "output_type": "execute_result"
    }
   ],
   "source": [
    "mid.corr()"
   ]
  },
  {
   "cell_type": "code",
   "execution_count": 16,
   "metadata": {},
   "outputs": [
    {
     "data": {
      "text/plain": [
       "Temperature            23.560180\n",
       "Exhaust Vacuum         60.318846\n",
       "Ambient Pressure     1012.011162\n",
       "Relative Humidity      70.895201\n",
       "Energy Output         445.116584\n",
       "dtype: float64"
      ]
     },
     "execution_count": 16,
     "metadata": {},
     "output_type": "execute_result"
    }
   ],
   "source": [
    "mid.mean()"
   ]
  },
  {
   "cell_type": "code",
   "execution_count": 18,
   "metadata": {},
   "outputs": [
    {
     "data": {
      "text/html": [
       "<div>\n",
       "<style scoped>\n",
       "    .dataframe tbody tr th:only-of-type {\n",
       "        vertical-align: middle;\n",
       "    }\n",
       "\n",
       "    .dataframe tbody tr th {\n",
       "        vertical-align: top;\n",
       "    }\n",
       "\n",
       "    .dataframe thead th {\n",
       "        text-align: right;\n",
       "    }\n",
       "</style>\n",
       "<table border=\"1\" class=\"dataframe\">\n",
       "  <thead>\n",
       "    <tr style=\"text-align: right;\">\n",
       "      <th></th>\n",
       "      <th>Temperature</th>\n",
       "      <th>Exhaust Vacuum</th>\n",
       "      <th>Ambient Pressure</th>\n",
       "      <th>Relative Humidity</th>\n",
       "      <th>Energy Output</th>\n",
       "    </tr>\n",
       "  </thead>\n",
       "  <tbody>\n",
       "    <tr>\n",
       "      <th>Temperature</th>\n",
       "      <td>1.000000</td>\n",
       "      <td>0.205723</td>\n",
       "      <td>-0.128912</td>\n",
       "      <td>-0.665794</td>\n",
       "      <td>-0.399863</td>\n",
       "    </tr>\n",
       "    <tr>\n",
       "      <th>Exhaust Vacuum</th>\n",
       "      <td>0.205723</td>\n",
       "      <td>1.000000</td>\n",
       "      <td>-0.042188</td>\n",
       "      <td>0.163341</td>\n",
       "      <td>-0.304651</td>\n",
       "    </tr>\n",
       "    <tr>\n",
       "      <th>Ambient Pressure</th>\n",
       "      <td>-0.128912</td>\n",
       "      <td>-0.042188</td>\n",
       "      <td>1.000000</td>\n",
       "      <td>-0.138716</td>\n",
       "      <td>0.205633</td>\n",
       "    </tr>\n",
       "    <tr>\n",
       "      <th>Relative Humidity</th>\n",
       "      <td>-0.665794</td>\n",
       "      <td>0.163341</td>\n",
       "      <td>-0.138716</td>\n",
       "      <td>1.000000</td>\n",
       "      <td>0.118138</td>\n",
       "    </tr>\n",
       "    <tr>\n",
       "      <th>Energy Output</th>\n",
       "      <td>-0.399863</td>\n",
       "      <td>-0.304651</td>\n",
       "      <td>0.205633</td>\n",
       "      <td>0.118138</td>\n",
       "      <td>1.000000</td>\n",
       "    </tr>\n",
       "  </tbody>\n",
       "</table>\n",
       "</div>"
      ],
      "text/plain": [
       "                   Temperature  Exhaust Vacuum  Ambient Pressure  \\\n",
       "Temperature           1.000000        0.205723         -0.128912   \n",
       "Exhaust Vacuum        0.205723        1.000000         -0.042188   \n",
       "Ambient Pressure     -0.128912       -0.042188          1.000000   \n",
       "Relative Humidity    -0.665794        0.163341         -0.138716   \n",
       "Energy Output        -0.399863       -0.304651          0.205633   \n",
       "\n",
       "                   Relative Humidity  Energy Output  \n",
       "Temperature                -0.665794      -0.399863  \n",
       "Exhaust Vacuum              0.163341      -0.304651  \n",
       "Ambient Pressure           -0.138716       0.205633  \n",
       "Relative Humidity           1.000000       0.118138  \n",
       "Energy Output               0.118138       1.000000  "
      ]
     },
     "execution_count": 18,
     "metadata": {},
     "output_type": "execute_result"
    }
   ],
   "source": [
    "lower.corr()"
   ]
  },
  {
   "cell_type": "code",
   "execution_count": 19,
   "metadata": {},
   "outputs": [
    {
     "data": {
      "text/plain": [
       "Temperature            28.094941\n",
       "Exhaust Vacuum         69.092128\n",
       "Ambient Pressure     1008.956639\n",
       "Relative Humidity      66.011881\n",
       "Energy Output         434.170577\n",
       "dtype: float64"
      ]
     },
     "execution_count": 19,
     "metadata": {},
     "output_type": "execute_result"
    }
   ],
   "source": [
    "lower.mean()"
   ]
  },
  {
   "cell_type": "code",
   "execution_count": null,
   "metadata": {},
   "outputs": [],
   "source": []
  }
 ],
 "metadata": {
  "kernelspec": {
   "display_name": "Python 3",
   "language": "python",
   "name": "python3"
  },
  "language_info": {
   "codemirror_mode": {
    "name": "ipython",
    "version": 3
   },
   "file_extension": ".py",
   "mimetype": "text/x-python",
   "name": "python",
   "nbconvert_exporter": "python",
   "pygments_lexer": "ipython3",
   "version": "3.7.3"
  }
 },
 "nbformat": 4,
 "nbformat_minor": 2
}
