{
 "cells": [
  {
   "cell_type": "code",
   "execution_count": 1,
   "metadata": {},
   "outputs": [],
   "source": [
    "import pandas as pd\n",
    "df = pd.read_csv('data/zomato.csv', encoding = 'latin1')\n",
    "country = pd.read_excel('data/Country-Code.xlsx')"
   ]
  },
  {
   "cell_type": "code",
   "execution_count": 2,
   "metadata": {},
   "outputs": [
    {
     "data": {
      "text/plain": [
       "Restaurant Name     Toit\n",
       "Votes              10934\n",
       "Name: 728, dtype: object"
      ]
     },
     "execution_count": 2,
     "metadata": {},
     "output_type": "execute_result"
    }
   ],
   "source": [
    "#1)\tWhich restaurant has the largest number of votes from the customer\n",
    "# DONE\n",
    "# Pull up the columns Restaurant Name and Votes. Sort values by order then get first value\n",
    "\n",
    "votes = df.loc[:, ['Restaurant Name', 'Votes']].sort_values(by = 'Votes', ascending=False)\n",
    "votes.iloc[0]"
   ]
  },
  {
   "cell_type": "code",
   "execution_count": 3,
   "metadata": {},
   "outputs": [
    {
     "name": "stderr",
     "output_type": "stream",
     "text": [
      "C:\\Users\\Student\\Anaconda3\\lib\\site-packages\\ipykernel_launcher.py:18: UserWarning: Boolean Series key will be reindexed to match DataFrame index.\n",
      "C:\\Users\\Student\\Anaconda3\\lib\\site-packages\\ipykernel_launcher.py:19: UserWarning: Boolean Series key will be reindexed to match DataFrame index.\n",
      "C:\\Users\\Student\\Anaconda3\\lib\\site-packages\\ipykernel_launcher.py:20: UserWarning: Boolean Series key will be reindexed to match DataFrame index.\n"
     ]
    },
    {
     "data": {
      "text/plain": [
       "['Mc Millan',\n",
       " 'Montville',\n",
       " 'Faridabad',\n",
       " 'Ghaziabad',\n",
       " 'Gurgaon',\n",
       " 'New Delhi',\n",
       " 'Noida']"
      ]
     },
     "execution_count": 3,
     "metadata": {},
     "output_type": "execute_result"
    }
   ],
   "source": [
    "#2)\tWhich city has more number of poor and not rated rating than very good rating in each country?\n",
    "# DONE\n",
    "\n",
    "# Combining the zomato with country code for easier access\n",
    "country = country.rename(columns = {'Country Code': 'cc'})\n",
    "combine = df.merge(country, on = \"cc\", how=\"inner\")\n",
    "\n",
    "# Locating the unique countries and cities\n",
    "cities = combine['City'].unique()\n",
    "countries = country['Country'].unique()\n",
    "\n",
    "# For every city, go through each restaurant.\n",
    "# Sum up the Not Rated, Poor, Very Good ratings.\n",
    "# If Not Rated + Poor > Very Good, append to the list\n",
    "bad_cities = []\n",
    "for x in cities:\n",
    "    one = df[ df['City'] == str(x)]\n",
    "    very_good = len(one[(df['Rating text'] == \"Very Good\")])\n",
    "    poor = len(one[(df['Rating text'] == \"Poor\")]) \n",
    "    not_rated = len (one[(df['Rating text'] == \"Not rated\")])\n",
    "    if very_good < (poor + not_rated):\n",
    "        bad_cities.append(str(x))\n",
    "\n",
    "bad_cities"
   ]
  },
  {
   "cell_type": "code",
   "execution_count": 4,
   "metadata": {},
   "outputs": [
    {
     "data": {
      "text/plain": [
       "['Panchkula',\n",
       " 'Paynesville',\n",
       " 'Sí£o Paulo',\n",
       " 'Vineland Station',\n",
       " 'Jakarta',\n",
       " 'Wellington City',\n",
       " 'Pasay City',\n",
       " 'Doha',\n",
       " 'Singapore',\n",
       " 'Inner City',\n",
       " 'Colombo',\n",
       " 'Ankara',\n",
       " 'Dubai',\n",
       " 'London',\n",
       " 'Princeton']"
      ]
     },
     "execution_count": 4,
     "metadata": {},
     "output_type": "execute_result"
    }
   ],
   "source": [
    "#3) Which city is costliest in each country? ( Assume all the currency are of same value)\n",
    "# Go through each unique country and each unique city.\n",
    "# Average the costs for the entire city. The highest average cost\n",
    "# city will be selected for each country.\n",
    "\n",
    "costcity = combine[['City', 'Average Cost for two', 'Country']]\n",
    "costiest_city = []\n",
    "\n",
    "for x in countries:\n",
    "    one = costcity[ costcity['Country'] == str(x) ]\n",
    "    name = ''\n",
    "    number = 0\n",
    "    for y in cities: \n",
    "        two = one[ one['City'] == str(y)]\n",
    "        if( two['Average Cost for two'].mean() > number):\n",
    "            name = y\n",
    "            number = two['Average Cost for two'].mean()\n",
    "    costiest_city.append(name)\n",
    "\n",
    "costiest_city "
   ]
  },
  {
   "cell_type": "code",
   "execution_count": 5,
   "metadata": {},
   "outputs": [
    {
     "data": {
      "text/plain": [
       "Connaught Place                          122\n",
       "Rajouri Garden                            99\n",
       "Shahdara                                  87\n",
       "Defence Colony                            86\n",
       "Pitampura                                 85\n",
       "Malviya Nagar                             85\n",
       "Mayur Vihar Phase 1                       84\n",
       "Rajinder Nagar                            81\n",
       "Safdarjung                                80\n",
       "Satyaniketan                              79\n",
       "Krishna Nagar                             77\n",
       "Sector 62                                 76\n",
       "Karol Bagh                                76\n",
       "Sector 18                                 75\n",
       "Hauz Khas                                 74\n",
       "Kalkaji                                   73\n",
       "Sector 15                                 71\n",
       "DLF Phase 3                               69\n",
       "Mahipalpur                                69\n",
       "Mukherjee Nagar                           68\n",
       "Shalimar Bagh                             67\n",
       "Chandni Chowk                             67\n",
       "Greater Kailash (GK) 1                    66\n",
       "Greater Kailash (GK) 2                    66\n",
       "Delhi University-GTB Nagar                65\n",
       "Kamla Nagar                               65\n",
       "Paharganj                                 64\n",
       "MG Road                                   63\n",
       "Vasundhara Enclave                        62\n",
       "Jail Road                                 61\n",
       "                                        ... \n",
       "Garden of Five Senses, Saket               1\n",
       "Shivala                                    1\n",
       "The Crown, Nayapalli                       1\n",
       "Ambavadi                                   1\n",
       "The Park, Lawsons Bay                      1\n",
       "PAU                                        1\n",
       "Infiniti Hotel, Vijay Nagar                1\n",
       "Plaza Mall, MG Road                        1\n",
       "A Hotel, Gurdev Nagar                      1\n",
       "K Hotel                                    1\n",
       "SMS Hotel, Peelamedu                       1\n",
       "Tagore Town                                1\n",
       "Radisson Blu Hotel, Vijay Nagar            1\n",
       "Maddilapalem                               1\n",
       "Godaulia                                   1\n",
       "Camac Street Area                          1\n",
       "Sheikh Sarai                               1\n",
       "Wakad                                      1\n",
       "Vinayak City Centre Mall, Civil Lines      1\n",
       "Courtyard by Marriott Agra, Tajganj        1\n",
       "Radisson Blu, Hindpiri                     1\n",
       "Azad Nagar                                 1\n",
       "Park Plaza, Sector 21, Faridabad           1\n",
       "Hotel Capitol Hill, Hindpiri               1\n",
       "Akashwani                                  1\n",
       "Hotel Maurya, Lodipur                      1\n",
       "Lemon Tree Premier, Sector 29              1\n",
       "Grand Hotel, MG Road                       1\n",
       "Ramdaspeth                                 1\n",
       "Dispur                                     1\n",
       "Name: Locality, Length: 784, dtype: int64"
      ]
     },
     "execution_count": 5,
     "metadata": {},
     "output_type": "execute_result"
    }
   ],
   "source": [
    "#4) In india how many restaurants are present in each locality?\n",
    "# DONE\n",
    "# Filter by country India. For each locality, sum up the number of restaurants\n",
    "locality = combine [ combine['Country'] == 'India']\n",
    "locality['Locality'].value_counts()"
   ]
  },
  {
   "cell_type": "code",
   "execution_count": 6,
   "metadata": {},
   "outputs": [
    {
     "data": {
      "text/plain": [
       "['New Delhi',\n",
       " 'Hepburn Springs',\n",
       " 'Brasí_lia',\n",
       " 'Chatham-Kent',\n",
       " 'Jakarta',\n",
       " 'Auckland',\n",
       " 'Mandaluyong City',\n",
       " 'Doha',\n",
       " 'Singapore',\n",
       " 'Cape Town',\n",
       " 'Colombo',\n",
       " 'Ankara',\n",
       " 'Abu Dhabi',\n",
       " 'Birmingham',\n",
       " 'Albany']"
      ]
     },
     "execution_count": 6,
     "metadata": {},
     "output_type": "execute_result"
    }
   ],
   "source": [
    "#5) Which city has the most number of restaurants in each country\n",
    "mostcity = combine[['City', 'Country']]\n",
    "most_number = []\n",
    "\n",
    "# For each country, go through its cities\n",
    "# In each city, find the number of restaurants\n",
    "# Select only the highest value for each city\n",
    "# Append to list\n",
    "for x in countries:\n",
    "    one = combine[ combine['Country'] == str(x) ]\n",
    "    name = ''\n",
    "    number = 0\n",
    "    for y in cities: \n",
    "        two = one[ one['City'] == str(y)]\n",
    "        if( len(two) > number):\n",
    "            name = y\n",
    "            number = len(two)\n",
    "    most_number.append(name)\n",
    "\n",
    "most_number"
   ]
  },
  {
   "cell_type": "code",
   "execution_count": 7,
   "metadata": {},
   "outputs": [
    {
     "data": {
      "text/plain": [
       "Cafe Coffee Day    83\n",
       "Name: Restaurant Name, dtype: int64"
      ]
     },
     "execution_count": 7,
     "metadata": {},
     "output_type": "execute_result"
    }
   ],
   "source": [
    "#6) Which franchise has the highest number of Restaurants?\n",
    "# DONE\n",
    "# Sum up the number of Restaurant Names\n",
    "franchise = df['Restaurant Name'].value_counts()\n",
    "franchise.head(1)"
   ]
  },
  {
   "cell_type": "code",
   "execution_count": 8,
   "metadata": {},
   "outputs": [
    {
     "data": {
      "text/plain": [
       "2451"
      ]
     },
     "execution_count": 8,
     "metadata": {},
     "output_type": "execute_result"
    }
   ],
   "source": [
    "#7) How many Restaurants are accepting online orders?\n",
    "# DONE\n",
    "# Pull up the Online delivery column and sum up the Yes\n",
    "len( df[ df[\"Has Online delivery\"] == \"Yes\" ])"
   ]
  },
  {
   "cell_type": "code",
   "execution_count": 9,
   "metadata": {},
   "outputs": [
    {
     "data": {
      "text/plain": [
       "1158"
      ]
     },
     "execution_count": 9,
     "metadata": {},
     "output_type": "execute_result"
    }
   ],
   "source": [
    "#8) How many have a book table facility?\n",
    "# DONE\n",
    "# Pull up the Table booking column and sum up the Yes\n",
    "len( df[ df[\"Has Table booking\"] == \"Yes\" ])"
   ]
  },
  {
   "cell_type": "code",
   "execution_count": 10,
   "metadata": {},
   "outputs": [
    {
     "data": {
      "text/plain": [
       "New Delhi    5473\n",
       "Name: City, dtype: int64"
      ]
     },
     "execution_count": 10,
     "metadata": {},
     "output_type": "execute_result"
    }
   ],
   "source": [
    "#9) Which location has the highest number of Restaurants?\n",
    "# DONE\n",
    "# Pull up the Location column and sum up each unique value\n",
    "locations = df['City'].value_counts()\n",
    "locations.head(1)"
   ]
  },
  {
   "cell_type": "code",
   "execution_count": 11,
   "metadata": {},
   "outputs": [
    {
     "data": {
      "text/plain": [
       "146"
      ]
     },
     "execution_count": 11,
     "metadata": {},
     "output_type": "execute_result"
    }
   ],
   "source": [
    "#10) How many types of Restaurant types are there?\n",
    "# DONE\n",
    "# Go through the Cuisine column. Separate the individual cuisines.\n",
    "# Append unique values to the list. Sum the list.\n",
    "restaurants = []\n",
    "\n",
    "for x in df['Cuisines']:\n",
    "    cuisine = str(x).split(', ')\n",
    "    for y in cuisine:\n",
    "        if( y not in restaurants):\n",
    "            restaurants.append(y)\n",
    "\n",
    "len(restaurants)"
   ]
  },
  {
   "cell_type": "code",
   "execution_count": 12,
   "metadata": {},
   "outputs": [
    {
     "data": {
      "text/plain": [
       "Restaurant Name    íukuraÛôa SofrasÛ±\n",
       "Votes                            10934\n",
       "dtype: object"
      ]
     },
     "execution_count": 12,
     "metadata": {},
     "output_type": "execute_result"
    }
   ],
   "source": [
    "#11) What is the most liked Restaurant?\n",
    "# DONE\n",
    "# Pull up the Restaurant Name and Votes, get the highest value votes\n",
    "df[['Restaurant Name', 'Votes']].max()"
   ]
  },
  {
   "cell_type": "code",
   "execution_count": 13,
   "metadata": {},
   "outputs": [
    {
     "data": {
      "text/plain": [
       "1199.2107632708617"
      ]
     },
     "execution_count": 13,
     "metadata": {},
     "output_type": "execute_result"
    }
   ],
   "source": [
    "#12) What is the Average cost for 2 persons?\n",
    "# DONE\n",
    "# Sum up all the Average Cost for two then divide by total number of restaurant\n",
    "df['Average Cost for two'].sum() / len(df['Average Cost for two'])"
   ]
  },
  {
   "cell_type": "code",
   "execution_count": null,
   "metadata": {},
   "outputs": [],
   "source": []
  }
 ],
 "metadata": {
  "kernelspec": {
   "display_name": "Python 3",
   "language": "python",
   "name": "python3"
  },
  "language_info": {
   "codemirror_mode": {
    "name": "ipython",
    "version": 3
   },
   "file_extension": ".py",
   "mimetype": "text/x-python",
   "name": "python",
   "nbconvert_exporter": "python",
   "pygments_lexer": "ipython3",
   "version": "3.7.3"
  }
 },
 "nbformat": 4,
 "nbformat_minor": 2
}
